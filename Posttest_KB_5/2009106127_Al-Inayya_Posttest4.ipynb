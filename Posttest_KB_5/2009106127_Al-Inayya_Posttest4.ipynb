{
 "cells": [
  {
   "cell_type": "markdown",
   "id": "6900de9f-4a86-4e37-8206-b8c580603c2e",
   "metadata": {},
   "source": [
    "DATA PREPROCESSING"
   ]
  },
  {
   "cell_type": "code",
   "execution_count": 3,
   "id": "51f44aca-9e04-4715-a3ec-92ee3e6085f9",
   "metadata": {},
   "outputs": [],
   "source": [
    "import matplotlib.pyplot as plt\n",
    "import seaborn as sns\n",
    "import pandas as pd\n",
    "import numpy as np"
   ]
  },
  {
   "cell_type": "markdown",
   "id": "609c24b9-4450-462f-b497-5d3f548eabd9",
   "metadata": {},
   "source": [
    "RECORD FILE \"CO2_emission.csv\""
   ]
  },
  {
   "cell_type": "code",
   "execution_count": 4,
   "id": "fb4181f1-bebd-49ad-ad20-66a54d2ba4a2",
   "metadata": {},
   "outputs": [
    {
     "data": {
      "text/html": [
       "<div>\n",
       "<style scoped>\n",
       "    .dataframe tbody tr th:only-of-type {\n",
       "        vertical-align: middle;\n",
       "    }\n",
       "\n",
       "    .dataframe tbody tr th {\n",
       "        vertical-align: top;\n",
       "    }\n",
       "\n",
       "    .dataframe thead th {\n",
       "        text-align: right;\n",
       "    }\n",
       "</style>\n",
       "<table border=\"1\" class=\"dataframe\">\n",
       "  <thead>\n",
       "    <tr style=\"text-align: right;\">\n",
       "      <th></th>\n",
       "      <th>Model_Year</th>\n",
       "      <th>Make</th>\n",
       "      <th>Model</th>\n",
       "      <th>Vehicle_Class</th>\n",
       "      <th>Engine_Size</th>\n",
       "      <th>Cylinders</th>\n",
       "      <th>Transmission</th>\n",
       "      <th>Fuel_Consumption_in_City(L/100 km)</th>\n",
       "      <th>Fuel_Consumption_in_City_Hwy(L/100 km)</th>\n",
       "      <th>Fuel_Consumption_comb(L/100km)</th>\n",
       "      <th>CO2_Emissions</th>\n",
       "      <th>Smog_Level</th>\n",
       "    </tr>\n",
       "  </thead>\n",
       "  <tbody>\n",
       "    <tr>\n",
       "      <th>0</th>\n",
       "      <td>2021</td>\n",
       "      <td>Acura</td>\n",
       "      <td>ILX</td>\n",
       "      <td>Compact</td>\n",
       "      <td>2.4</td>\n",
       "      <td>4</td>\n",
       "      <td>AM8</td>\n",
       "      <td>9.9</td>\n",
       "      <td>7.0</td>\n",
       "      <td>8.6</td>\n",
       "      <td>199</td>\n",
       "      <td>3</td>\n",
       "    </tr>\n",
       "    <tr>\n",
       "      <th>1</th>\n",
       "      <td>2021</td>\n",
       "      <td>Acura</td>\n",
       "      <td>NSX</td>\n",
       "      <td>Two-seater</td>\n",
       "      <td>3.5</td>\n",
       "      <td>6</td>\n",
       "      <td>AM9</td>\n",
       "      <td>11.1</td>\n",
       "      <td>10.8</td>\n",
       "      <td>11.0</td>\n",
       "      <td>256</td>\n",
       "      <td>3</td>\n",
       "    </tr>\n",
       "    <tr>\n",
       "      <th>2</th>\n",
       "      <td>2021</td>\n",
       "      <td>Acura</td>\n",
       "      <td>RDX SH-AWD</td>\n",
       "      <td>SUV: Small</td>\n",
       "      <td>2.0</td>\n",
       "      <td>4</td>\n",
       "      <td>AS10</td>\n",
       "      <td>11.0</td>\n",
       "      <td>8.6</td>\n",
       "      <td>9.9</td>\n",
       "      <td>232</td>\n",
       "      <td>6</td>\n",
       "    </tr>\n",
       "    <tr>\n",
       "      <th>3</th>\n",
       "      <td>2021</td>\n",
       "      <td>Acura</td>\n",
       "      <td>RDX SH-AWD A-SPEC</td>\n",
       "      <td>SUV: Small</td>\n",
       "      <td>2.0</td>\n",
       "      <td>4</td>\n",
       "      <td>AS10</td>\n",
       "      <td>11.3</td>\n",
       "      <td>9.1</td>\n",
       "      <td>10.3</td>\n",
       "      <td>242</td>\n",
       "      <td>6</td>\n",
       "    </tr>\n",
       "    <tr>\n",
       "      <th>4</th>\n",
       "      <td>2021</td>\n",
       "      <td>Acura</td>\n",
       "      <td>TLX SH-AWD</td>\n",
       "      <td>Compact</td>\n",
       "      <td>2.0</td>\n",
       "      <td>4</td>\n",
       "      <td>AS10</td>\n",
       "      <td>11.2</td>\n",
       "      <td>8.0</td>\n",
       "      <td>9.8</td>\n",
       "      <td>230</td>\n",
       "      <td>7</td>\n",
       "    </tr>\n",
       "  </tbody>\n",
       "</table>\n",
       "</div>"
      ],
      "text/plain": [
       "   Model_Year   Make              Model Vehicle_Class  Engine_Size  Cylinders  \\\n",
       "0        2021  Acura                ILX       Compact          2.4          4   \n",
       "1        2021  Acura                NSX    Two-seater          3.5          6   \n",
       "2        2021  Acura         RDX SH-AWD    SUV: Small          2.0          4   \n",
       "3        2021  Acura  RDX SH-AWD A-SPEC    SUV: Small          2.0          4   \n",
       "4        2021  Acura         TLX SH-AWD       Compact          2.0          4   \n",
       "\n",
       "  Transmission  Fuel_Consumption_in_City(L/100 km)  \\\n",
       "0          AM8                                 9.9   \n",
       "1          AM9                                11.1   \n",
       "2         AS10                                11.0   \n",
       "3         AS10                                11.3   \n",
       "4         AS10                                11.2   \n",
       "\n",
       "   Fuel_Consumption_in_City_Hwy(L/100 km)  Fuel_Consumption_comb(L/100km)  \\\n",
       "0                                     7.0                             8.6   \n",
       "1                                    10.8                            11.0   \n",
       "2                                     8.6                             9.9   \n",
       "3                                     9.1                            10.3   \n",
       "4                                     8.0                             9.8   \n",
       "\n",
       "   CO2_Emissions  Smog_Level  \n",
       "0            199           3  \n",
       "1            256           3  \n",
       "2            232           6  \n",
       "3            242           6  \n",
       "4            230           7  "
      ]
     },
     "execution_count": 4,
     "metadata": {},
     "output_type": "execute_result"
    }
   ],
   "source": [
    "df = pd.read_csv('CO2_emission.csv')\n",
    "df.head()"
   ]
  },
  {
   "cell_type": "code",
   "execution_count": 5,
   "id": "21142452-3376-433e-a978-4000286ce9b6",
   "metadata": {},
   "outputs": [
    {
     "name": "stdout",
     "output_type": "stream",
     "text": [
      "<class 'pandas.core.frame.DataFrame'>\n",
      "RangeIndex: 935 entries, 0 to 934\n",
      "Data columns (total 12 columns):\n",
      " #   Column                                  Non-Null Count  Dtype  \n",
      "---  ------                                  --------------  -----  \n",
      " 0   Model_Year                              935 non-null    int64  \n",
      " 1   Make                                    935 non-null    object \n",
      " 2   Model                                   935 non-null    object \n",
      " 3   Vehicle_Class                           935 non-null    object \n",
      " 4   Engine_Size                             935 non-null    float64\n",
      " 5   Cylinders                               935 non-null    int64  \n",
      " 6   Transmission                            935 non-null    object \n",
      " 7   Fuel_Consumption_in_City(L/100 km)      935 non-null    float64\n",
      " 8   Fuel_Consumption_in_City_Hwy(L/100 km)  935 non-null    float64\n",
      " 9   Fuel_Consumption_comb(L/100km)          935 non-null    float64\n",
      " 10  CO2_Emissions                           935 non-null    int64  \n",
      " 11  Smog_Level                              935 non-null    int64  \n",
      "dtypes: float64(4), int64(4), object(4)\n",
      "memory usage: 87.8+ KB\n"
     ]
    }
   ],
   "source": [
    "df.info()"
   ]
  },
  {
   "cell_type": "code",
   "execution_count": 6,
   "id": "72ae0bf3-21af-479c-b787-1e1f467af540",
   "metadata": {},
   "outputs": [
    {
     "data": {
      "text/plain": [
       "Model_Year                                0\n",
       "Make                                      0\n",
       "Model                                     0\n",
       "Vehicle_Class                             0\n",
       "Engine_Size                               0\n",
       "Cylinders                                 0\n",
       "Transmission                              0\n",
       "Fuel_Consumption_in_City(L/100 km)        0\n",
       "Fuel_Consumption_in_City_Hwy(L/100 km)    0\n",
       "Fuel_Consumption_comb(L/100km)            0\n",
       "CO2_Emissions                             0\n",
       "Smog_Level                                0\n",
       "dtype: int64"
      ]
     },
     "execution_count": 6,
     "metadata": {},
     "output_type": "execute_result"
    }
   ],
   "source": [
    "df.isna().sum()"
   ]
  },
  {
   "cell_type": "code",
   "execution_count": 7,
   "id": "e7188d0e-f2c1-4f82-80ca-34d7306baad1",
   "metadata": {},
   "outputs": [
    {
     "name": "stdout",
     "output_type": "stream",
     "text": [
      "panjang dataset 935 baris\n"
     ]
    }
   ],
   "source": [
    "print(f'panjang dataset {len(df)} baris')"
   ]
  },
  {
   "cell_type": "markdown",
   "id": "fbad165a-0c27-4bab-a7c8-2ebed78c11f8",
   "metadata": {},
   "source": [
    "RECORD FILE \"drug.csv\""
   ]
  },
  {
   "cell_type": "code",
   "execution_count": 8,
   "id": "323f8b58-4c02-4135-9a19-ced0332f50df",
   "metadata": {},
   "outputs": [
    {
     "data": {
      "text/html": [
       "<div>\n",
       "<style scoped>\n",
       "    .dataframe tbody tr th:only-of-type {\n",
       "        vertical-align: middle;\n",
       "    }\n",
       "\n",
       "    .dataframe tbody tr th {\n",
       "        vertical-align: top;\n",
       "    }\n",
       "\n",
       "    .dataframe thead th {\n",
       "        text-align: right;\n",
       "    }\n",
       "</style>\n",
       "<table border=\"1\" class=\"dataframe\">\n",
       "  <thead>\n",
       "    <tr style=\"text-align: right;\">\n",
       "      <th></th>\n",
       "      <th>age</th>\n",
       "      <th>sex</th>\n",
       "      <th>bp</th>\n",
       "      <th>cholesterol</th>\n",
       "      <th>Na_to_K</th>\n",
       "      <th>drug</th>\n",
       "    </tr>\n",
       "  </thead>\n",
       "  <tbody>\n",
       "    <tr>\n",
       "      <th>0</th>\n",
       "      <td>23</td>\n",
       "      <td>F</td>\n",
       "      <td>HIGH</td>\n",
       "      <td>HIGH</td>\n",
       "      <td>25.355</td>\n",
       "      <td>drugY</td>\n",
       "    </tr>\n",
       "    <tr>\n",
       "      <th>1</th>\n",
       "      <td>47</td>\n",
       "      <td>M</td>\n",
       "      <td>LOW</td>\n",
       "      <td>HIGH</td>\n",
       "      <td>13.093</td>\n",
       "      <td>drugC</td>\n",
       "    </tr>\n",
       "    <tr>\n",
       "      <th>2</th>\n",
       "      <td>47</td>\n",
       "      <td>M</td>\n",
       "      <td>LOW</td>\n",
       "      <td>HIGH</td>\n",
       "      <td>10.114</td>\n",
       "      <td>drugC</td>\n",
       "    </tr>\n",
       "    <tr>\n",
       "      <th>3</th>\n",
       "      <td>28</td>\n",
       "      <td>F</td>\n",
       "      <td>NORMAL</td>\n",
       "      <td>HIGH</td>\n",
       "      <td>7.798</td>\n",
       "      <td>drugX</td>\n",
       "    </tr>\n",
       "    <tr>\n",
       "      <th>4</th>\n",
       "      <td>61</td>\n",
       "      <td>F</td>\n",
       "      <td>LOW</td>\n",
       "      <td>HIGH</td>\n",
       "      <td>18.043</td>\n",
       "      <td>drugY</td>\n",
       "    </tr>\n",
       "  </tbody>\n",
       "</table>\n",
       "</div>"
      ],
      "text/plain": [
       "   age sex      bp cholesterol  Na_to_K   drug\n",
       "0   23   F    HIGH        HIGH   25.355  drugY\n",
       "1   47   M     LOW        HIGH   13.093  drugC\n",
       "2   47   M     LOW        HIGH   10.114  drugC\n",
       "3   28   F  NORMAL        HIGH    7.798  drugX\n",
       "4   61   F     LOW        HIGH   18.043  drugY"
      ]
     },
     "execution_count": 8,
     "metadata": {},
     "output_type": "execute_result"
    }
   ],
   "source": [
    "fd = pd.read_csv('drug.csv')\n",
    "fd.head()"
   ]
  },
  {
   "cell_type": "code",
   "execution_count": 7,
   "id": "4646cfb5-14c1-4958-a15c-7acc99b0b340",
   "metadata": {},
   "outputs": [
    {
     "name": "stdout",
     "output_type": "stream",
     "text": [
      "<class 'pandas.core.frame.DataFrame'>\n",
      "RangeIndex: 200 entries, 0 to 199\n",
      "Data columns (total 6 columns):\n",
      " #   Column       Non-Null Count  Dtype  \n",
      "---  ------       --------------  -----  \n",
      " 0   age          200 non-null    int64  \n",
      " 1   sex          200 non-null    object \n",
      " 2   bp           200 non-null    object \n",
      " 3   cholesterol  200 non-null    object \n",
      " 4   Na_to_K      200 non-null    float64\n",
      " 5   drug         200 non-null    object \n",
      "dtypes: float64(1), int64(1), object(4)\n",
      "memory usage: 9.5+ KB\n"
     ]
    }
   ],
   "source": [
    "fd.info()"
   ]
  },
  {
   "cell_type": "code",
   "execution_count": 9,
   "id": "07386a01-ffe6-4717-9edd-10e72ad744b7",
   "metadata": {},
   "outputs": [
    {
     "data": {
      "text/plain": [
       "age            0\n",
       "sex            0\n",
       "bp             0\n",
       "cholesterol    0\n",
       "Na_to_K        0\n",
       "drug           0\n",
       "dtype: int64"
      ]
     },
     "execution_count": 9,
     "metadata": {},
     "output_type": "execute_result"
    }
   ],
   "source": [
    "fd.isna().sum()"
   ]
  },
  {
   "cell_type": "code",
   "execution_count": 10,
   "id": "e939f54d-30d6-4c95-bce2-ee96ee0aa9b9",
   "metadata": {},
   "outputs": [
    {
     "name": "stdout",
     "output_type": "stream",
     "text": [
      "panjang dataset 200 baris\n"
     ]
    }
   ],
   "source": [
    "print(f'panjang dataset {len(fd)} baris')"
   ]
  },
  {
   "cell_type": "raw",
   "id": "e45bbf55-839a-4979-9bd9-58c061308a22",
   "metadata": {},
   "source": [
    "RECORD FILE \"cust_segmentation_Data.csv\""
   ]
  },
  {
   "cell_type": "code",
   "execution_count": 4,
   "id": "6b4aa4e4-870d-477e-ac7d-4885ddb9712e",
   "metadata": {},
   "outputs": [
    {
     "data": {
      "text/html": [
       "<div>\n",
       "<style scoped>\n",
       "    .dataframe tbody tr th:only-of-type {\n",
       "        vertical-align: middle;\n",
       "    }\n",
       "\n",
       "    .dataframe tbody tr th {\n",
       "        vertical-align: top;\n",
       "    }\n",
       "\n",
       "    .dataframe thead th {\n",
       "        text-align: right;\n",
       "    }\n",
       "</style>\n",
       "<table border=\"1\" class=\"dataframe\">\n",
       "  <thead>\n",
       "    <tr style=\"text-align: right;\">\n",
       "      <th></th>\n",
       "      <th>Customer Id</th>\n",
       "      <th>Age</th>\n",
       "      <th>Edu</th>\n",
       "      <th>Years Employed</th>\n",
       "      <th>Income</th>\n",
       "      <th>Card Debt</th>\n",
       "      <th>Other Debt</th>\n",
       "      <th>Defaulted</th>\n",
       "      <th>DebtIncomeRatio</th>\n",
       "    </tr>\n",
       "  </thead>\n",
       "  <tbody>\n",
       "    <tr>\n",
       "      <th>0</th>\n",
       "      <td>1</td>\n",
       "      <td>41</td>\n",
       "      <td>2</td>\n",
       "      <td>6</td>\n",
       "      <td>19</td>\n",
       "      <td>0.124</td>\n",
       "      <td>1.073</td>\n",
       "      <td>0.0</td>\n",
       "      <td>6.3</td>\n",
       "    </tr>\n",
       "    <tr>\n",
       "      <th>1</th>\n",
       "      <td>2</td>\n",
       "      <td>47</td>\n",
       "      <td>1</td>\n",
       "      <td>26</td>\n",
       "      <td>100</td>\n",
       "      <td>4.582</td>\n",
       "      <td>8.218</td>\n",
       "      <td>0.0</td>\n",
       "      <td>12.8</td>\n",
       "    </tr>\n",
       "    <tr>\n",
       "      <th>2</th>\n",
       "      <td>3</td>\n",
       "      <td>33</td>\n",
       "      <td>2</td>\n",
       "      <td>10</td>\n",
       "      <td>57</td>\n",
       "      <td>6.111</td>\n",
       "      <td>5.802</td>\n",
       "      <td>1.0</td>\n",
       "      <td>20.9</td>\n",
       "    </tr>\n",
       "    <tr>\n",
       "      <th>3</th>\n",
       "      <td>4</td>\n",
       "      <td>29</td>\n",
       "      <td>2</td>\n",
       "      <td>4</td>\n",
       "      <td>19</td>\n",
       "      <td>0.681</td>\n",
       "      <td>0.516</td>\n",
       "      <td>0.0</td>\n",
       "      <td>6.3</td>\n",
       "    </tr>\n",
       "    <tr>\n",
       "      <th>4</th>\n",
       "      <td>5</td>\n",
       "      <td>47</td>\n",
       "      <td>1</td>\n",
       "      <td>31</td>\n",
       "      <td>253</td>\n",
       "      <td>9.308</td>\n",
       "      <td>8.908</td>\n",
       "      <td>0.0</td>\n",
       "      <td>7.2</td>\n",
       "    </tr>\n",
       "  </tbody>\n",
       "</table>\n",
       "</div>"
      ],
      "text/plain": [
       "   Customer Id  Age  Edu  Years Employed  Income  Card Debt  Other Debt  \\\n",
       "0            1   41    2               6      19      0.124       1.073   \n",
       "1            2   47    1              26     100      4.582       8.218   \n",
       "2            3   33    2              10      57      6.111       5.802   \n",
       "3            4   29    2               4      19      0.681       0.516   \n",
       "4            5   47    1              31     253      9.308       8.908   \n",
       "\n",
       "   Defaulted  DebtIncomeRatio  \n",
       "0        0.0              6.3  \n",
       "1        0.0             12.8  \n",
       "2        1.0             20.9  \n",
       "3        0.0              6.3  \n",
       "4        0.0              7.2  "
      ]
     },
     "execution_count": 4,
     "metadata": {},
     "output_type": "execute_result"
    }
   ],
   "source": [
    "dt = pd.read_csv('cust_segmentation_Data.csv')\n",
    "dt.head()"
   ]
  },
  {
   "cell_type": "code",
   "execution_count": 81,
   "id": "e976d75e-36a1-43d9-8c29-94ee1d100699",
   "metadata": {},
   "outputs": [
    {
     "name": "stdout",
     "output_type": "stream",
     "text": [
      "<class 'pandas.core.frame.DataFrame'>\n",
      "RangeIndex: 850 entries, 0 to 849\n",
      "Data columns (total 9 columns):\n",
      " #   Column           Non-Null Count  Dtype  \n",
      "---  ------           --------------  -----  \n",
      " 0   Customer Id      850 non-null    int64  \n",
      " 1   Age              850 non-null    int64  \n",
      " 2   Edu              850 non-null    int64  \n",
      " 3   Years Employed   850 non-null    int64  \n",
      " 4   Income           850 non-null    int64  \n",
      " 5   Card Debt        850 non-null    float64\n",
      " 6   Other Debt       850 non-null    float64\n",
      " 7   Defaulted        700 non-null    float64\n",
      " 8   DebtIncomeRatio  850 non-null    float64\n",
      "dtypes: float64(4), int64(5)\n",
      "memory usage: 59.9 KB\n"
     ]
    }
   ],
   "source": [
    "dt.info()"
   ]
  },
  {
   "cell_type": "code",
   "execution_count": 83,
   "id": "8b2fef22-492c-4f11-b457-55b8fc6e5e3a",
   "metadata": {},
   "outputs": [
    {
     "data": {
      "text/plain": [
       "Customer Id          0\n",
       "Age                  0\n",
       "Edu                  0\n",
       "Years Employed       0\n",
       "Income               0\n",
       "Card Debt            0\n",
       "Other Debt           0\n",
       "Defaulted          150\n",
       "DebtIncomeRatio      0\n",
       "dtype: int64"
      ]
     },
     "execution_count": 83,
     "metadata": {},
     "output_type": "execute_result"
    }
   ],
   "source": [
    "dt.isna().sum()"
   ]
  },
  {
   "cell_type": "code",
   "execution_count": 84,
   "id": "7379e0c4-1268-447c-8b53-e15970c61ecd",
   "metadata": {},
   "outputs": [
    {
     "name": "stdout",
     "output_type": "stream",
     "text": [
      "panjang dataset 850 baris\n"
     ]
    }
   ],
   "source": [
    "print(f'panjang dataset {len(dt)} baris')"
   ]
  },
  {
   "cell_type": "markdown",
   "id": "7a54a987-4cb3-4c66-97b6-8161ce7a7699",
   "metadata": {},
   "source": [
    "#DATA SPLIT"
   ]
  },
  {
   "cell_type": "code",
   "execution_count": 18,
   "id": "e11176fe-1de8-4979-a5d2-5033cd849b45",
   "metadata": {},
   "outputs": [],
   "source": [
    "# untuk Data Split\n",
    "from sklearn.model_selection import train_test_split #testing dan training data"
   ]
  },
  {
   "cell_type": "code",
   "execution_count": 19,
   "id": "bc39798b-57c2-4591-b916-1ffb22586db3",
   "metadata": {},
   "outputs": [],
   "source": [
    "data = df[['Engine_Size']]\n",
    "label = df['Model']\n",
    "\n",
    "data_train, data_test, label_train, label_test = train_test_split(data, label, test_size=.3)"
   ]
  },
  {
   "cell_type": "code",
   "execution_count": 20,
   "id": "5ae7c7b4-cb17-4d45-8551-371959f014e2",
   "metadata": {},
   "outputs": [
    {
     "name": "stdout",
     "output_type": "stream",
     "text": [
      "panjang data training 654\n",
      "panjang label training 654\n",
      "panjang data testing 281\n",
      "panjang label testing 281\n"
     ]
    }
   ],
   "source": [
    "print(f'panjang data training {len(data_train)}',\n",
    "     f'panjang label training {len(label_train)}',\n",
    "     f'panjang data testing {len(data_test)}',\n",
    "     f'panjang label testing {len(label_test)}',\n",
    "     sep='\\n')"
   ]
  },
  {
   "cell_type": "markdown",
   "id": "96122885-0d78-4b9b-8bec-b803d29855e6",
   "metadata": {},
   "source": [
    "#DATA TRANSFORMASI"
   ]
  },
  {
   "cell_type": "code",
   "execution_count": 60,
   "id": "5a957057-feeb-48c4-9052-82dc214d2da9",
   "metadata": {},
   "outputs": [],
   "source": [
    "# untuk Data Transforming\n",
    "from sklearn.preprocessing import StandardScaler #standarisasi\n",
    "from sklearn.preprocessing import MinMaxScaler #normalisasi"
   ]
  },
  {
   "cell_type": "code",
   "execution_count": 5,
   "id": "398a550e-a0a1-4468-92fc-561d0d8ccfce",
   "metadata": {},
   "outputs": [],
   "source": [
    "dataset_normalisasi = df.copy()\n",
    "dataset_standarirasi = dt.copy()"
   ]
  },
  {
   "cell_type": "markdown",
   "id": "f0c7aa0b-dd51-4b78-aaa5-a19a770f946b",
   "metadata": {},
   "source": [
    "NORMALISASI"
   ]
  },
  {
   "cell_type": "code",
   "execution_count": 25,
   "id": "ab601526-d109-461c-8e15-19b49f000d40",
   "metadata": {},
   "outputs": [
    {
     "data": {
      "text/html": [
       "<div>\n",
       "<style scoped>\n",
       "    .dataframe tbody tr th:only-of-type {\n",
       "        vertical-align: middle;\n",
       "    }\n",
       "\n",
       "    .dataframe tbody tr th {\n",
       "        vertical-align: top;\n",
       "    }\n",
       "\n",
       "    .dataframe thead th {\n",
       "        text-align: right;\n",
       "    }\n",
       "</style>\n",
       "<table border=\"1\" class=\"dataframe\">\n",
       "  <thead>\n",
       "    <tr style=\"text-align: right;\">\n",
       "      <th></th>\n",
       "      <th>Fuel_Consumption_in_City_Hwy(L/100 km)</th>\n",
       "      <th>Fuel_Consumption_comb(L/100km)</th>\n",
       "      <th>CO2_Emissions</th>\n",
       "    </tr>\n",
       "  </thead>\n",
       "  <tbody>\n",
       "    <tr>\n",
       "      <th>0</th>\n",
       "      <td>0.182353</td>\n",
       "      <td>0.208145</td>\n",
       "      <td>0.204280</td>\n",
       "    </tr>\n",
       "    <tr>\n",
       "      <th>1</th>\n",
       "      <td>0.405882</td>\n",
       "      <td>0.316742</td>\n",
       "      <td>0.315175</td>\n",
       "    </tr>\n",
       "    <tr>\n",
       "      <th>2</th>\n",
       "      <td>0.276471</td>\n",
       "      <td>0.266968</td>\n",
       "      <td>0.268482</td>\n",
       "    </tr>\n",
       "    <tr>\n",
       "      <th>3</th>\n",
       "      <td>0.305882</td>\n",
       "      <td>0.285068</td>\n",
       "      <td>0.287938</td>\n",
       "    </tr>\n",
       "    <tr>\n",
       "      <th>4</th>\n",
       "      <td>0.241176</td>\n",
       "      <td>0.262443</td>\n",
       "      <td>0.264591</td>\n",
       "    </tr>\n",
       "  </tbody>\n",
       "</table>\n",
       "</div>"
      ],
      "text/plain": [
       "   Fuel_Consumption_in_City_Hwy(L/100 km)  Fuel_Consumption_comb(L/100km)  \\\n",
       "0                                0.182353                        0.208145   \n",
       "1                                0.405882                        0.316742   \n",
       "2                                0.276471                        0.266968   \n",
       "3                                0.305882                        0.285068   \n",
       "4                                0.241176                        0.262443   \n",
       "\n",
       "   CO2_Emissions  \n",
       "0       0.204280  \n",
       "1       0.315175  \n",
       "2       0.268482  \n",
       "3       0.287938  \n",
       "4       0.264591  "
      ]
     },
     "execution_count": 25,
     "metadata": {},
     "output_type": "execute_result"
    }
   ],
   "source": [
    "scaler = MinMaxScaler()\n",
    "\n",
    "normalize_dataset = scaler.fit_transform(dataset_normalisasi[['Fuel_Consumption_in_City_Hwy(L/100 km)', 'Fuel_Consumption_comb(L/100km)', 'CO2_Emissions']])\n",
    "\n",
    "normalize_dataset = pd.DataFrame(normalize_dataset)\n",
    "normalize_dataset.rename(columns={ 0 :'Fuel_Consumption_in_City_Hwy(L/100 km)', 1 : 'Fuel_Consumption_comb(L/100km)', 2 : 'CO2_Emissions'}, inplace=True)\n",
    "\n",
    "normalize_dataset.head(5)"
   ]
  },
  {
   "cell_type": "markdown",
   "id": "e0193ddd-017a-4fa0-8ba6-d83182426016",
   "metadata": {},
   "source": [
    "STANDARISASI"
   ]
  },
  {
   "cell_type": "code",
   "execution_count": 87,
   "id": "d84c4295-6bcd-4565-9eeb-076cf175b4d2",
   "metadata": {},
   "outputs": [
    {
     "name": "stdout",
     "output_type": "stream",
     "text": [
      "Dataset sebelum scalling:\n",
      "   Age  Edu  Years Employed  Income  Card Debt  Other Debt  Defaulted  \\\n",
      "0   41    2               6      19      0.124       1.073        0.0   \n",
      "1   47    1              26     100      4.582       8.218        0.0   \n",
      "2   33    2              10      57      6.111       5.802        1.0   \n",
      "3   29    2               4      19      0.681       0.516        0.0   \n",
      "4   47    1              31     253      9.308       8.908        0.0   \n",
      "\n",
      "   DebtIncomeRatio  \n",
      "0              6.3  \n",
      "1             12.8  \n",
      "2             20.9  \n",
      "3              6.3  \n",
      "4              7.2  \n",
      "Nilai standar deviasi:\n",
      "Customer Id        245.373695\n",
      "Age                  8.036700\n",
      "Edu                  0.927238\n",
      "Years Employed       6.773895\n",
      "Income              38.520375\n",
      "Card Debt            2.124592\n",
      "Other Debt           3.396799\n",
      "Defaulted            0.439413\n",
      "DebtIncomeRatio      6.715488\n",
      "dtype: float64\n",
      "\n",
      "Dataset setelah scalling:\n",
      "[[ 0.74291541  0.31212243 -0.37878978 -0.71845859 -0.68381116 -0.59048916\n",
      "  -0.59494973 -0.57652509]\n",
      " [ 1.48949049 -0.76634938  2.5737211   1.38432469  1.41447366  1.51296181\n",
      "  -0.59494973  0.39138677]\n",
      " [-0.25251804  0.31212243  0.2117124   0.26803233  2.13414111  0.80170393\n",
      "   1.68081427  1.59755385]\n",
      " [-0.75023477  0.31212243 -0.67404087 -0.71845859 -0.42164323 -0.75446707\n",
      "  -0.59494973 -0.57652509]\n",
      " [ 1.48949049 -0.76634938  3.31184882  5.35624866  3.63890032  1.71609424\n",
      "  -0.59494973 -0.44250653]\n",
      " [ 0.61848622 -0.76634938  2.13084447  0.89107923 -0.27243814  1.39903102\n",
      "          nan  0.10845868]]\n",
      "Nilai standar deviasi: nan\n"
     ]
    }
   ],
   "source": [
    "dataset_standarirasi.drop('Customer Id', axis=1, inplace=True)\n",
    "\n",
    "standart_std = StandardScaler()\n",
    "\n",
    "scaled_data = standart_std.fit_transform(dataset_standarirasi)\n",
    "\n",
    "print('Dataset sebelum scalling:',  # BEFORE\n",
    "      dt.drop('Customer Id', axis=1).head(5),\n",
    "      f'Nilai standar deviasi:\\n{np.std(dt)}',\n",
    "      sep='\\n', end='\\n\\n')\n",
    "\n",
    "print('Dataset setelah scalling:',  # AFTER\n",
    "      scaled_data[:6],\n",
    "      f'Nilai standar deviasi: {np.std(scaled_data)}',\n",
    "      sep='\\n')"
   ]
  },
  {
   "cell_type": "markdown",
   "id": "ff3a5ed6-a9a6-46c8-b6e4-3d423de6250d",
   "metadata": {},
   "source": [
    "#DATA CLEANING"
   ]
  },
  {
   "cell_type": "code",
   "execution_count": 14,
   "id": "0fa586d5-aa70-4bfa-87e3-94864bbd04e2",
   "metadata": {},
   "outputs": [],
   "source": [
    "# untuk Data Cleaning\n",
    "from sklearn.impute import SimpleImputer #subtitusi nilai"
   ]
  },
  {
   "cell_type": "code",
   "execution_count": 11,
   "id": "fd37d0a5-8f21-447e-bfee-634048495223",
   "metadata": {},
   "outputs": [],
   "source": [
    "dataset_ns1 = df.copy()\n",
    "dataset_ns2 = fd.copy()\n",
    "dataset_ns3 = dt.copy()"
   ]
  },
  {
   "cell_type": "code",
   "execution_count": 12,
   "id": "f5702e35-a9a6-4ecd-91b9-215ea1d18a34",
   "metadata": {},
   "outputs": [],
   "source": [
    "imputer_mean = SimpleImputer(strategy='mean')\n",
    "imputer_median = SimpleImputer(strategy='median')\n",
    "imputer_modus = SimpleImputer(strategy='most_frequent')"
   ]
  },
  {
   "cell_type": "markdown",
   "id": "b8076e58-98e9-4f30-8fbd-66c5f926fd32",
   "metadata": {},
   "source": [
    "MEAN"
   ]
  },
  {
   "cell_type": "code",
   "execution_count": 19,
   "id": "ae967cd1-231b-4bae-9f60-f25b177a7a71",
   "metadata": {},
   "outputs": [
    {
     "data": {
      "text/html": [
       "<div>\n",
       "<style scoped>\n",
       "    .dataframe tbody tr th:only-of-type {\n",
       "        vertical-align: middle;\n",
       "    }\n",
       "\n",
       "    .dataframe tbody tr th {\n",
       "        vertical-align: top;\n",
       "    }\n",
       "\n",
       "    .dataframe thead th {\n",
       "        text-align: right;\n",
       "    }\n",
       "</style>\n",
       "<table border=\"1\" class=\"dataframe\">\n",
       "  <thead>\n",
       "    <tr style=\"text-align: right;\">\n",
       "      <th></th>\n",
       "      <th>age</th>\n",
       "      <th>sex</th>\n",
       "      <th>bp</th>\n",
       "      <th>cholesterol</th>\n",
       "      <th>Na_to_K</th>\n",
       "      <th>drug</th>\n",
       "    </tr>\n",
       "  </thead>\n",
       "  <tbody>\n",
       "    <tr>\n",
       "      <th>0</th>\n",
       "      <td>23</td>\n",
       "      <td>F</td>\n",
       "      <td>HIGH</td>\n",
       "      <td>HIGH</td>\n",
       "      <td>25.355</td>\n",
       "      <td>drugY</td>\n",
       "    </tr>\n",
       "    <tr>\n",
       "      <th>1</th>\n",
       "      <td>47</td>\n",
       "      <td>M</td>\n",
       "      <td>LOW</td>\n",
       "      <td>HIGH</td>\n",
       "      <td>13.093</td>\n",
       "      <td>drugC</td>\n",
       "    </tr>\n",
       "    <tr>\n",
       "      <th>2</th>\n",
       "      <td>47</td>\n",
       "      <td>M</td>\n",
       "      <td>LOW</td>\n",
       "      <td>HIGH</td>\n",
       "      <td>10.114</td>\n",
       "      <td>drugC</td>\n",
       "    </tr>\n",
       "    <tr>\n",
       "      <th>3</th>\n",
       "      <td>28</td>\n",
       "      <td>F</td>\n",
       "      <td>NORMAL</td>\n",
       "      <td>HIGH</td>\n",
       "      <td>7.798</td>\n",
       "      <td>drugX</td>\n",
       "    </tr>\n",
       "    <tr>\n",
       "      <th>4</th>\n",
       "      <td>61</td>\n",
       "      <td>F</td>\n",
       "      <td>LOW</td>\n",
       "      <td>HIGH</td>\n",
       "      <td>18.043</td>\n",
       "      <td>drugY</td>\n",
       "    </tr>\n",
       "  </tbody>\n",
       "</table>\n",
       "</div>"
      ],
      "text/plain": [
       "   age sex      bp cholesterol  Na_to_K   drug\n",
       "0   23   F    HIGH        HIGH   25.355  drugY\n",
       "1   47   M     LOW        HIGH   13.093  drugC\n",
       "2   47   M     LOW        HIGH   10.114  drugC\n",
       "3   28   F  NORMAL        HIGH    7.798  drugX\n",
       "4   61   F     LOW        HIGH   18.043  drugY"
      ]
     },
     "execution_count": 19,
     "metadata": {},
     "output_type": "execute_result"
    }
   ],
   "source": [
    "fd = pd.read_csv('drug.csv')\n",
    "fd.head()"
   ]
  },
  {
   "cell_type": "code",
   "execution_count": 13,
   "id": "7376cdd9-b405-44bb-b163-9e80f6cedc53",
   "metadata": {},
   "outputs": [
    {
     "data": {
      "text/plain": [
       "age            0\n",
       "sex            0\n",
       "bp             0\n",
       "cholesterol    0\n",
       "Na_to_K        0\n",
       "drug           0\n",
       "dtype: int64"
      ]
     },
     "execution_count": 13,
     "metadata": {},
     "output_type": "execute_result"
    }
   ],
   "source": [
    "dataset_ns2['Na_to_K'] = imputer_mean.fit_transform(dataset_ns2[['Na_to_K']])\n",
    "\n",
    "dataset_ns2.isna().sum()"
   ]
  },
  {
   "cell_type": "markdown",
   "id": "c8ca761c-0745-4f28-a9ea-dbd04a2bd985",
   "metadata": {},
   "source": [
    "MEDIAN"
   ]
  },
  {
   "cell_type": "code",
   "execution_count": 14,
   "id": "d0fb570a-d517-46f5-871e-b73d6f665da0",
   "metadata": {},
   "outputs": [
    {
     "data": {
      "text/plain": [
       "age            0\n",
       "sex            0\n",
       "bp             0\n",
       "cholesterol    0\n",
       "Na_to_K        0\n",
       "drug           0\n",
       "dtype: int64"
      ]
     },
     "execution_count": 14,
     "metadata": {},
     "output_type": "execute_result"
    }
   ],
   "source": [
    "dataset_ns2['age'] = imputer_median.fit_transform(dataset_ns2[['age']])\n",
    "\n",
    "dataset_ns2.isna().sum()"
   ]
  },
  {
   "cell_type": "markdown",
   "id": "b7ada80d-8764-4734-a978-7d1050a87e82",
   "metadata": {},
   "source": [
    "MODUS"
   ]
  },
  {
   "cell_type": "code",
   "execution_count": 20,
   "id": "2bfc7057-64a7-4001-928b-b71bd0d8d896",
   "metadata": {},
   "outputs": [
    {
     "data": {
      "text/html": [
       "<div>\n",
       "<style scoped>\n",
       "    .dataframe tbody tr th:only-of-type {\n",
       "        vertical-align: middle;\n",
       "    }\n",
       "\n",
       "    .dataframe tbody tr th {\n",
       "        vertical-align: top;\n",
       "    }\n",
       "\n",
       "    .dataframe thead th {\n",
       "        text-align: right;\n",
       "    }\n",
       "</style>\n",
       "<table border=\"1\" class=\"dataframe\">\n",
       "  <thead>\n",
       "    <tr style=\"text-align: right;\">\n",
       "      <th></th>\n",
       "      <th>Model_Year</th>\n",
       "      <th>Make</th>\n",
       "      <th>Model</th>\n",
       "      <th>Vehicle_Class</th>\n",
       "      <th>Engine_Size</th>\n",
       "      <th>Cylinders</th>\n",
       "      <th>Transmission</th>\n",
       "      <th>Fuel_Consumption_in_City(L/100 km)</th>\n",
       "      <th>Fuel_Consumption_in_City_Hwy(L/100 km)</th>\n",
       "      <th>Fuel_Consumption_comb(L/100km)</th>\n",
       "      <th>CO2_Emissions</th>\n",
       "      <th>Smog_Level</th>\n",
       "    </tr>\n",
       "  </thead>\n",
       "  <tbody>\n",
       "    <tr>\n",
       "      <th>0</th>\n",
       "      <td>2021</td>\n",
       "      <td>Acura</td>\n",
       "      <td>ILX</td>\n",
       "      <td>Compact</td>\n",
       "      <td>2.4</td>\n",
       "      <td>4</td>\n",
       "      <td>AM8</td>\n",
       "      <td>9.9</td>\n",
       "      <td>7.0</td>\n",
       "      <td>8.6</td>\n",
       "      <td>199</td>\n",
       "      <td>3</td>\n",
       "    </tr>\n",
       "    <tr>\n",
       "      <th>1</th>\n",
       "      <td>2021</td>\n",
       "      <td>Acura</td>\n",
       "      <td>NSX</td>\n",
       "      <td>Two-seater</td>\n",
       "      <td>3.5</td>\n",
       "      <td>6</td>\n",
       "      <td>AM9</td>\n",
       "      <td>11.1</td>\n",
       "      <td>10.8</td>\n",
       "      <td>11.0</td>\n",
       "      <td>256</td>\n",
       "      <td>3</td>\n",
       "    </tr>\n",
       "    <tr>\n",
       "      <th>2</th>\n",
       "      <td>2021</td>\n",
       "      <td>Acura</td>\n",
       "      <td>RDX SH-AWD</td>\n",
       "      <td>SUV: Small</td>\n",
       "      <td>2.0</td>\n",
       "      <td>4</td>\n",
       "      <td>AS10</td>\n",
       "      <td>11.0</td>\n",
       "      <td>8.6</td>\n",
       "      <td>9.9</td>\n",
       "      <td>232</td>\n",
       "      <td>6</td>\n",
       "    </tr>\n",
       "    <tr>\n",
       "      <th>3</th>\n",
       "      <td>2021</td>\n",
       "      <td>Acura</td>\n",
       "      <td>RDX SH-AWD A-SPEC</td>\n",
       "      <td>SUV: Small</td>\n",
       "      <td>2.0</td>\n",
       "      <td>4</td>\n",
       "      <td>AS10</td>\n",
       "      <td>11.3</td>\n",
       "      <td>9.1</td>\n",
       "      <td>10.3</td>\n",
       "      <td>242</td>\n",
       "      <td>6</td>\n",
       "    </tr>\n",
       "    <tr>\n",
       "      <th>4</th>\n",
       "      <td>2021</td>\n",
       "      <td>Acura</td>\n",
       "      <td>TLX SH-AWD</td>\n",
       "      <td>Compact</td>\n",
       "      <td>2.0</td>\n",
       "      <td>4</td>\n",
       "      <td>AS10</td>\n",
       "      <td>11.2</td>\n",
       "      <td>8.0</td>\n",
       "      <td>9.8</td>\n",
       "      <td>230</td>\n",
       "      <td>7</td>\n",
       "    </tr>\n",
       "  </tbody>\n",
       "</table>\n",
       "</div>"
      ],
      "text/plain": [
       "   Model_Year   Make              Model Vehicle_Class  Engine_Size  Cylinders  \\\n",
       "0        2021  Acura                ILX       Compact          2.4          4   \n",
       "1        2021  Acura                NSX    Two-seater          3.5          6   \n",
       "2        2021  Acura         RDX SH-AWD    SUV: Small          2.0          4   \n",
       "3        2021  Acura  RDX SH-AWD A-SPEC    SUV: Small          2.0          4   \n",
       "4        2021  Acura         TLX SH-AWD       Compact          2.0          4   \n",
       "\n",
       "  Transmission  Fuel_Consumption_in_City(L/100 km)  \\\n",
       "0          AM8                                 9.9   \n",
       "1          AM9                                11.1   \n",
       "2         AS10                                11.0   \n",
       "3         AS10                                11.3   \n",
       "4         AS10                                11.2   \n",
       "\n",
       "   Fuel_Consumption_in_City_Hwy(L/100 km)  Fuel_Consumption_comb(L/100km)  \\\n",
       "0                                     7.0                             8.6   \n",
       "1                                    10.8                            11.0   \n",
       "2                                     8.6                             9.9   \n",
       "3                                     9.1                            10.3   \n",
       "4                                     8.0                             9.8   \n",
       "\n",
       "   CO2_Emissions  Smog_Level  \n",
       "0            199           3  \n",
       "1            256           3  \n",
       "2            232           6  \n",
       "3            242           6  \n",
       "4            230           7  "
      ]
     },
     "execution_count": 20,
     "metadata": {},
     "output_type": "execute_result"
    }
   ],
   "source": [
    "df = pd.read_csv('CO2_emission.csv')\n",
    "df.head()"
   ]
  },
  {
   "cell_type": "code",
   "execution_count": 18,
   "id": "38bab81f-ec4d-4453-a6d7-55da3beb34e5",
   "metadata": {},
   "outputs": [
    {
     "data": {
      "text/plain": [
       "Model_Year                                0\n",
       "Make                                      0\n",
       "Model                                     0\n",
       "Vehicle_Class                             0\n",
       "Engine_Size                               0\n",
       "Cylinders                                 0\n",
       "Transmission                              0\n",
       "Fuel_Consumption_in_City(L/100 km)        0\n",
       "Fuel_Consumption_in_City_Hwy(L/100 km)    0\n",
       "Fuel_Consumption_comb(L/100km)            0\n",
       "CO2_Emissions                             0\n",
       "Smog_Level                                0\n",
       "dtype: int64"
      ]
     },
     "execution_count": 18,
     "metadata": {},
     "output_type": "execute_result"
    }
   ],
   "source": [
    "dataset_ns1['Model'] = imputer_modus.fit_transform(dataset_ns1[['Model']])\n",
    "\n",
    "dataset_ns1.isna().sum()"
   ]
  },
  {
   "cell_type": "markdown",
   "id": "08f01b82-8a81-4bd2-a938-25b75cbb6e3a",
   "metadata": {},
   "source": [
    "MENGHAPUS RECORD/FEATURE"
   ]
  },
  {
   "cell_type": "code",
   "execution_count": 21,
   "id": "9c4289f9-f7cd-4d37-9e9e-76990bb4f26f",
   "metadata": {},
   "outputs": [
    {
     "data": {
      "text/plain": [
       "Customer Id        0\n",
       "Age                0\n",
       "Edu                0\n",
       "Years Employed     0\n",
       "Income             0\n",
       "Card Debt          0\n",
       "Other Debt         0\n",
       "Defaulted          0\n",
       "DebtIncomeRatio    0\n",
       "dtype: int64"
      ]
     },
     "execution_count": 21,
     "metadata": {},
     "output_type": "execute_result"
    }
   ],
   "source": [
    "dataset_ns3.dropna(inplace=True)\n",
    "\n",
    "dataset_ns3.isna().sum()"
   ]
  },
  {
   "cell_type": "code",
   "execution_count": 23,
   "id": "d6106e43-5b30-4a79-8e77-8a6081ac5254",
   "metadata": {},
   "outputs": [
    {
     "data": {
      "text/plain": [
       "935"
      ]
     },
     "execution_count": 23,
     "metadata": {},
     "output_type": "execute_result"
    }
   ],
   "source": [
    "len(dataset_ns1)"
   ]
  },
  {
   "cell_type": "markdown",
   "id": "da351f95-268e-4886-91f0-53f5020e1857",
   "metadata": {},
   "source": [
    "DATA DUPLIKAT"
   ]
  },
  {
   "cell_type": "code",
   "execution_count": 9,
   "id": "104b5f35-3134-4646-b5dd-dfa5c9e982e6",
   "metadata": {},
   "outputs": [
    {
     "data": {
      "text/plain": [
       "1"
      ]
     },
     "execution_count": 9,
     "metadata": {},
     "output_type": "execute_result"
    }
   ],
   "source": [
    "dataset_duplicate = fd.copy()\n",
    "\n",
    "dataset_duplicate.duplicated().sum()"
   ]
  },
  {
   "cell_type": "code",
   "execution_count": 10,
   "id": "4658b672-0e2f-4602-8a3a-5486b5ee2915",
   "metadata": {},
   "outputs": [
    {
     "data": {
      "text/plain": [
       "0"
      ]
     },
     "execution_count": 10,
     "metadata": {},
     "output_type": "execute_result"
    }
   ],
   "source": [
    "dataset_duplicate.drop_duplicates(inplace=True)\n",
    "\n",
    "dataset_duplicate.duplicated().sum()"
   ]
  },
  {
   "cell_type": "markdown",
   "id": "8983b17a-9c98-4e5f-ab5a-da28a0935a6e",
   "metadata": {},
   "source": [
    "#ENCODING"
   ]
  },
  {
   "cell_type": "code",
   "execution_count": 15,
   "id": "577a336a-537c-4034-82df-cd738bb5fc93",
   "metadata": {},
   "outputs": [],
   "source": [
    "# untuk Data Encoding\n",
    "from sklearn.preprocessing import OrdinalEncoder #encoder\n",
    "from sklearn.preprocessing import OneHotEncoder #onehot"
   ]
  },
  {
   "cell_type": "markdown",
   "id": "8ca41ce4-0f91-43be-8b95-72898bfd2f0e",
   "metadata": {},
   "source": [
    "ONE-HOT-ENCODING"
   ]
  },
  {
   "cell_type": "code",
   "execution_count": 17,
   "id": "3606aa02-58b8-4d18-aaf9-65176398d8f6",
   "metadata": {},
   "outputs": [],
   "source": [
    "dataset_one_hot = fd.copy()"
   ]
  },
  {
   "cell_type": "code",
   "execution_count": 34,
   "id": "4827b7af-18f0-444f-89c0-0924724e5d86",
   "metadata": {},
   "outputs": [
    {
     "data": {
      "text/plain": [
       "array(['HIGH', 'LOW', 'NORMAL'], dtype=object)"
      ]
     },
     "execution_count": 34,
     "metadata": {},
     "output_type": "execute_result"
    }
   ],
   "source": [
    "fd['bp'].unique()"
   ]
  },
  {
   "cell_type": "code",
   "execution_count": 18,
   "id": "fd216d92-aba0-4c26-9361-8621ba674ff7",
   "metadata": {},
   "outputs": [
    {
     "data": {
      "text/html": [
       "<div>\n",
       "<style scoped>\n",
       "    .dataframe tbody tr th:only-of-type {\n",
       "        vertical-align: middle;\n",
       "    }\n",
       "\n",
       "    .dataframe tbody tr th {\n",
       "        vertical-align: top;\n",
       "    }\n",
       "\n",
       "    .dataframe thead th {\n",
       "        text-align: right;\n",
       "    }\n",
       "</style>\n",
       "<table border=\"1\" class=\"dataframe\">\n",
       "  <thead>\n",
       "    <tr style=\"text-align: right;\">\n",
       "      <th></th>\n",
       "      <th>age</th>\n",
       "      <th>sex</th>\n",
       "      <th>cholesterol</th>\n",
       "      <th>Na_to_K</th>\n",
       "      <th>drug</th>\n",
       "      <th>bp_HIGH</th>\n",
       "      <th>bp_LOW</th>\n",
       "      <th>bp_NORMAL</th>\n",
       "    </tr>\n",
       "  </thead>\n",
       "  <tbody>\n",
       "    <tr>\n",
       "      <th>0</th>\n",
       "      <td>23</td>\n",
       "      <td>F</td>\n",
       "      <td>HIGH</td>\n",
       "      <td>25.355</td>\n",
       "      <td>drugY</td>\n",
       "      <td>1</td>\n",
       "      <td>0</td>\n",
       "      <td>0</td>\n",
       "    </tr>\n",
       "    <tr>\n",
       "      <th>1</th>\n",
       "      <td>47</td>\n",
       "      <td>M</td>\n",
       "      <td>HIGH</td>\n",
       "      <td>13.093</td>\n",
       "      <td>drugC</td>\n",
       "      <td>0</td>\n",
       "      <td>1</td>\n",
       "      <td>0</td>\n",
       "    </tr>\n",
       "    <tr>\n",
       "      <th>2</th>\n",
       "      <td>47</td>\n",
       "      <td>M</td>\n",
       "      <td>HIGH</td>\n",
       "      <td>10.114</td>\n",
       "      <td>drugC</td>\n",
       "      <td>0</td>\n",
       "      <td>1</td>\n",
       "      <td>0</td>\n",
       "    </tr>\n",
       "    <tr>\n",
       "      <th>3</th>\n",
       "      <td>28</td>\n",
       "      <td>F</td>\n",
       "      <td>HIGH</td>\n",
       "      <td>7.798</td>\n",
       "      <td>drugX</td>\n",
       "      <td>0</td>\n",
       "      <td>0</td>\n",
       "      <td>1</td>\n",
       "    </tr>\n",
       "    <tr>\n",
       "      <th>4</th>\n",
       "      <td>61</td>\n",
       "      <td>F</td>\n",
       "      <td>HIGH</td>\n",
       "      <td>18.043</td>\n",
       "      <td>drugY</td>\n",
       "      <td>0</td>\n",
       "      <td>1</td>\n",
       "      <td>0</td>\n",
       "    </tr>\n",
       "    <tr>\n",
       "      <th>5</th>\n",
       "      <td>22</td>\n",
       "      <td>F</td>\n",
       "      <td>HIGH</td>\n",
       "      <td>8.607</td>\n",
       "      <td>drugX</td>\n",
       "      <td>0</td>\n",
       "      <td>0</td>\n",
       "      <td>1</td>\n",
       "    </tr>\n",
       "    <tr>\n",
       "      <th>6</th>\n",
       "      <td>49</td>\n",
       "      <td>F</td>\n",
       "      <td>HIGH</td>\n",
       "      <td>16.275</td>\n",
       "      <td>drugY</td>\n",
       "      <td>0</td>\n",
       "      <td>0</td>\n",
       "      <td>1</td>\n",
       "    </tr>\n",
       "  </tbody>\n",
       "</table>\n",
       "</div>"
      ],
      "text/plain": [
       "   age sex cholesterol  Na_to_K   drug  bp_HIGH  bp_LOW  bp_NORMAL\n",
       "0   23   F        HIGH   25.355  drugY        1       0          0\n",
       "1   47   M        HIGH   13.093  drugC        0       1          0\n",
       "2   47   M        HIGH   10.114  drugC        0       1          0\n",
       "3   28   F        HIGH    7.798  drugX        0       0          1\n",
       "4   61   F        HIGH   18.043  drugY        0       1          0\n",
       "5   22   F        HIGH    8.607  drugX        0       0          1\n",
       "6   49   F        HIGH   16.275  drugY        0       0          1"
      ]
     },
     "execution_count": 18,
     "metadata": {},
     "output_type": "execute_result"
    }
   ],
   "source": [
    "temp_dataset = pd.get_dummies(dataset_one_hot[['bp']])\n",
    "\n",
    "temp_dataset = pd.DataFrame(temp_dataset)\n",
    "\n",
    "dataset_one_hot.drop('bp', axis=1, inplace=True)\n",
    "\n",
    "dataset_one_hot = dataset_one_hot.join(temp_dataset)\n",
    "dataset_one_hot.head(7)"
   ]
  },
  {
   "cell_type": "code",
   "execution_count": null,
   "id": "d373c4db-c4f0-4d0a-b87e-9e38282dff3e",
   "metadata": {},
   "outputs": [],
   "source": []
  }
 ],
 "metadata": {
  "kernelspec": {
   "display_name": "Python 3 (ipykernel)",
   "language": "python",
   "name": "python3"
  },
  "language_info": {
   "codemirror_mode": {
    "name": "ipython",
    "version": 3
   },
   "file_extension": ".py",
   "mimetype": "text/x-python",
   "name": "python",
   "nbconvert_exporter": "python",
   "pygments_lexer": "ipython3",
   "version": "3.9.2"
  }
 },
 "nbformat": 4,
 "nbformat_minor": 5
}
