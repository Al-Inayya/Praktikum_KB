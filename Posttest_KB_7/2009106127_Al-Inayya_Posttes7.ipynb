{
 "cells": [
  {
   "cell_type": "markdown",
   "id": "d965174c-c916-4ab8-a89e-b539e67c1d80",
   "metadata": {},
   "source": [
    "# POSTTES 7 (TENSORFLOW)"
   ]
  },
  {
   "cell_type": "code",
   "execution_count": 1,
   "id": "421d0ee8-933a-4edd-89f7-eca503ff34d6",
   "metadata": {},
   "outputs": [],
   "source": [
    "import tensorflow as tf\n",
    "import numpy as np"
   ]
  },
  {
   "cell_type": "markdown",
   "id": "020a79ec-6c4f-4c0a-b26b-5ca778af1db0",
   "metadata": {},
   "source": [
    "# Buatlah sebuah tensor dengan shape(5,5) dengan nilai random yang disimpan dalam variable random_tensor"
   ]
  },
  {
   "cell_type": "code",
   "execution_count": 2,
   "id": "2e49c900-5d8d-40f6-a231-ab63e508b19f",
   "metadata": {},
   "outputs": [
    {
     "data": {
      "text/plain": [
       "array([[-0.8113182 ,  1.4845988 ,  0.06532937, -2.4427042 ,  0.0992484 ],\n",
       "       [ 0.5912243 ,  0.59282297, -2.1229296 , -0.72289723, -0.05627038],\n",
       "       [ 0.6435448 , -0.26432407,  1.8566332 ,  0.5678417 , -0.3828359 ],\n",
       "       [-1.4853433 ,  1.2617711 , -0.02530608, -0.2646297 ,  1.5328138 ],\n",
       "       [-1.7429771 , -0.43789294, -0.56601   ,  0.32066926,  1.132831  ]],\n",
       "      dtype=float32)"
      ]
     },
     "execution_count": 2,
     "metadata": {},
     "output_type": "execute_result"
    }
   ],
   "source": [
    "random_tensor = tf.random.normal([5,5], mean=0., stddev=1.,seed=1)\n",
    "random_tensor.numpy()"
   ]
  },
  {
   "cell_type": "markdown",
   "id": "0fe0a53e-f3a7-40da-be80-0b1af1cd9a30",
   "metadata": {},
   "source": [
    "# Buatlah sebuah tensor dengan shape(5,5) dari sebuah list dengan nilai bilangan prima dalam variable prime_tensor"
   ]
  },
  {
   "cell_type": "code",
   "execution_count": 16,
   "id": "87ad84f2-9652-4f3e-aeab-ad08e81cc6fb",
   "metadata": {},
   "outputs": [
    {
     "data": {
      "text/plain": [
       "<tf.Tensor: shape=(5, 5), dtype=int32, numpy=\n",
       "array([[ 2,  3,  5,  7, 11],\n",
       "       [13, 17, 19, 23, 29],\n",
       "       [31, 37, 41, 43, 47],\n",
       "       [53, 59, 61, 67, 71],\n",
       "       [73, 79, 83, 89, 97]])>"
      ]
     },
     "execution_count": 16,
     "metadata": {},
     "output_type": "execute_result"
    }
   ],
   "source": [
    "prime_tensor = [[2,3,5,7,11],\n",
    "                [13,17,19,23,29],\n",
    "                [31,37,41,43,47],\n",
    "                [53,59,61,67,71],\n",
    "                [73,79,83,89,97]]\n",
    "tf.convert_to_tensor(prime_tensor)"
   ]
  },
  {
   "cell_type": "markdown",
   "id": "35990900-556b-42dd-9d97-3e97ba99e3df",
   "metadata": {},
   "source": [
    "# Tampilkan dimensi dari kedua variable tersebut"
   ]
  },
  {
   "cell_type": "code",
   "execution_count": 17,
   "id": "f87f0dc2-7b9b-40ae-8157-61ef9ae5bbe6",
   "metadata": {},
   "outputs": [
    {
     "data": {
      "text/plain": [
       "TensorShape([5, 5])"
      ]
     },
     "execution_count": 17,
     "metadata": {},
     "output_type": "execute_result"
    }
   ],
   "source": [
    "random_tensor.shape"
   ]
  },
  {
   "cell_type": "markdown",
   "id": "c1acafcb-74d5-4f55-b3e5-3491e443cc8d",
   "metadata": {},
   "source": [
    "Tampilkan hasil dari perhitungan aritmetika 2 variable tersebut (Gunakan minimal 5 operator)"
   ]
  },
  {
   "cell_type": "markdown",
   "id": "fb120287-de04-4143-bb3b-64d8526b1bc8",
   "metadata": {},
   "source": [
    "PENJUMLAHAN"
   ]
  },
  {
   "cell_type": "code",
   "execution_count": 19,
   "id": "d209e111-47a3-47aa-82bc-3949d3608d27",
   "metadata": {},
   "outputs": [
    {
     "name": "stdout",
     "output_type": "stream",
     "text": [
      "tf.Tensor(\n",
      "[[ 1.6761351  3.9913368  5.1402426  8.257397  11.099923 ]\n",
      " [13.189833  16.712889  17.25864   24.871876  26.98955  ]\n",
      " [29.532698  35.727802  40.219627  43.94073   46.93835  ]\n",
      " [50.91575   59.61423   59.54891   66.11307   70.03259  ]\n",
      " [73.94832   78.30255   83.53915   88.4703    94.98946  ]], shape=(5, 5), dtype=float32)\n"
     ]
    }
   ],
   "source": [
    "random_tensor = tf.random.normal([5,5], mean=0., stddev=1.,seed=1)\n",
    "prime_tensor = [[2,3,5,7,11],\n",
    "                [13,17,19,23,29],\n",
    "                [31,37,41,43,47],\n",
    "                [53,59,61,67,71],\n",
    "                [73,79,83,89,97]]\n",
    "print(tf.add(random_tensor,prime_tensor))"
   ]
  },
  {
   "cell_type": "markdown",
   "id": "960bdf8b-a73e-4afa-99d5-3e3bdcb21ceb",
   "metadata": {},
   "source": [
    "PEMBAGIAN"
   ]
  },
  {
   "cell_type": "code",
   "execution_count": 27,
   "id": "8d11a691-0749-483a-a031-8327481028fe",
   "metadata": {},
   "outputs": [
    {
     "name": "stdout",
     "output_type": "stream",
     "text": [
      "tf.Tensor(\n",
      "[[ 2.6710117e-03 -3.4868124e-01 -3.2855296e-01 -4.9933385e-02\n",
      "   8.6495548e-02]\n",
      " [ 6.2352516e-02 -4.4808295e-02  5.3350762e-02 -8.0305278e-02\n",
      "   6.9557857e-03]\n",
      " [ 3.9269436e-02 -4.7498003e-02  4.3069072e-02  2.6512560e-02\n",
      "   1.7697476e-02]\n",
      " [-3.7687927e-02  4.2672469e-03  1.7524315e-02  4.5014694e-03\n",
      "   3.7210886e-03]\n",
      " [ 3.1734267e-04  9.1428328e-03  4.5115938e-03 -1.0739432e-03\n",
      "   1.4624439e-02]], shape=(5, 5), dtype=float32)\n"
     ]
    }
   ],
   "source": [
    "random_tensor = tf.random.normal([5,5], mean=0., stddev=1.,seed=1)\n",
    "prime_tensor = [[2,3,5,7,11],\n",
    "                [13,17,19,23,29],\n",
    "                [31,37,41,43,47],\n",
    "                [53,59,61,67,71],\n",
    "                [73,79,83,89,97]]\n",
    "print(tf.divide(random_tensor,prime_tensor))"
   ]
  },
  {
   "cell_type": "markdown",
   "id": "7cca8de3-68e3-4343-9fee-3642ded8c51d",
   "metadata": {},
   "source": [
    "LOGARITMA"
   ]
  },
  {
   "cell_type": "code",
   "execution_count": 28,
   "id": "98e2b5f5-6d10-4281-a41e-bbb3d29e9053",
   "metadata": {},
   "outputs": [
    {
     "name": "stdout",
     "output_type": "stream",
     "text": [
      "tf.Tensor(\n",
      "[[-3.6375911  -0.5112753   0.78527486 -0.34886786         nan]\n",
      " [        nan         nan -2.2177489          nan         nan]\n",
      " [        nan -1.0908935          nan         nan         nan]\n",
      " [        nan  0.15537421         nan  0.19540821 -0.41779348]\n",
      " [-1.588368   -2.5325453  -2.6301417          nan         nan]], shape=(5, 5), dtype=float32)\n"
     ]
    }
   ],
   "source": [
    "random_tensor = tf.random.normal([5,5], mean=0., stddev=1.,seed=1)\n",
    "prime_tensor = [[2,3,5,7,11],\n",
    "                [13,17,19,23,29],\n",
    "                [31,37,41,43,47],\n",
    "                [53,59,61,67,71],\n",
    "                [73,79,83,89,97]]\n",
    "print(tf.math.log(random_tensor,prime_tensor))"
   ]
  },
  {
   "cell_type": "markdown",
   "id": "3360f3b7-fd8d-4ba3-b225-eeb19e0d8614",
   "metadata": {},
   "source": [
    "PANGKAT"
   ]
  },
  {
   "cell_type": "code",
   "execution_count": 29,
   "id": "87ee0ccf-a1a1-4dd9-b270-4ad89d9a1498",
   "metadata": {},
   "outputs": [
    {
     "name": "stdout",
     "output_type": "stream",
     "text": [
      "tf.Tensor(\n",
      "[[ 9.66102723e-03  1.87378371e+00  1.49746859e+00 -3.05974829e-11\n",
      "   1.18807375e-01]\n",
      " [-4.66760139e+01 -1.02345221e-04 -6.35636139e+01  4.29921830e-03\n",
      "  -1.63839281e+05]\n",
      " [ 1.31553137e+10  1.60909221e-02 -0.00000000e+00 -4.73134349e+20\n",
      "   0.00000000e+00]\n",
      " [ 5.26591934e-20 -8.33039874e-32  2.75768667e-01  5.51942154e+14\n",
      "   0.00000000e+00]\n",
      " [ 0.00000000e+00 -0.00000000e+00 -1.76782157e-12 -4.32036650e-05\n",
      "   0.00000000e+00]], shape=(5, 5), dtype=float32)\n"
     ]
    }
   ],
   "source": [
    "random_tensor = tf.random.normal([5,5], mean=0., stddev=1.,seed=1)\n",
    "prime_tensor = [[2,3,5,7,11],\n",
    "                [13,17,19,23,29],\n",
    "                [31,37,41,43,47],\n",
    "                [53,59,61,67,71],\n",
    "                [73,79,83,89,97]]\n",
    "print(tf.pow(random_tensor,prime_tensor))"
   ]
  },
  {
   "cell_type": "raw",
   "id": "5af024b7-5715-4fa7-9122-6ccd9452f3cc",
   "metadata": {},
   "source": [
    "PERKALIAN"
   ]
  },
  {
   "cell_type": "code",
   "execution_count": 30,
   "id": "d5280b8b-cde8-457d-a147-750e7be44bed",
   "metadata": {},
   "outputs": [
    {
     "name": "stdout",
     "output_type": "stream",
     "text": [
      "tf.Tensor(\n",
      "[[  0.44576672   3.23009      8.17774      1.9855111    2.3667278 ]\n",
      " [ -2.6687586   29.97019    -11.708298    13.990379   -44.60974   ]\n",
      " [ -6.82516    -99.193794    -1.7434397   34.185593   -13.200857  ]\n",
      " [-82.21638    -36.744633   -23.708965    77.98874      3.8308885 ]\n",
      " [ 36.13413     24.786385    49.64158    136.75969    -83.99319   ]], shape=(5, 5), dtype=float32)\n"
     ]
    }
   ],
   "source": [
    "random_tensor = tf.random.normal([5,5], mean=0., stddev=1.,seed=1)\n",
    "prime_tensor = [[2,3,5,7,11],\n",
    "                [13,17,19,23,29],\n",
    "                [31,37,41,43,47],\n",
    "                [53,59,61,67,71],\n",
    "                [73,79,83,89,97]]\n",
    "print(tf.multiply(random_tensor,prime_tensor))"
   ]
  },
  {
   "cell_type": "markdown",
   "id": "d63ffba9-a4dc-45a6-8792-b22ae279bdb0",
   "metadata": {},
   "source": [
    "# Tampilkan nilai maksimal dan minimal dari variable random_tensor"
   ]
  },
  {
   "cell_type": "markdown",
   "id": "39ede988-212b-40d7-a7fc-cf03e2a9165c",
   "metadata": {},
   "source": [
    "NILAI MAKSIMAL"
   ]
  },
  {
   "cell_type": "code",
   "execution_count": null,
   "id": "bc22db82-bebc-43c2-85ff-4459f0be1491",
   "metadata": {},
   "outputs": [
    {
     "name": "stdout",
     "output_type": "stream",
     "text": [
      "input tensor: [[-1.3108554  -1.1593145   0.73543155 -1.5630164  -1.4232419 ]\n",
      " [-1.7293437  -0.47802517  1.234133   -0.30225113  0.2919897 ]\n",
      " [ 0.99688596 -2.0894635   0.06678373  0.5522131  -1.9784949 ]\n",
      " [-1.2640431   0.9884551   0.33365408 -1.7091124  -0.63588405]\n",
      " [-0.8078736   0.850547   -1.4636692  -0.83810955  1.3281822 ]]\n",
      "locate the maximum value by column: [2 3 1 2 4]\n",
      "locate the maximum value by row: [2 2 0 1 4]\n"
     ]
    }
   ],
   "source": [
    "random_tensor = tf.random.normal([5,5], mean=0., stddev=1.,seed=1)\n",
    "print(\"input tensor:\",random_tensor.numpy())\n",
    "max_tensor_1 = tf.argmax(random_tensor, axis=0)\n",
    "max_tensor_2 = tf.argmax(random_tensor, axis=1)\n",
    "print(\"locate the maximum value by column:\",max_tensor_1.numpy())\n",
    "print(\"locate the maximum value by row:\",max_tensor_2.numpy())"
   ]
  },
  {
   "cell_type": "markdown",
   "id": "7f1e4c01-46ba-4100-af2d-3845837a7d11",
   "metadata": {},
   "source": [
    "NILAI MINIMAL"
   ]
  },
  {
   "cell_type": "code",
   "execution_count": 38,
   "id": "452b65da-5f01-4437-a949-44b01dec74d0",
   "metadata": {},
   "outputs": [
    {
     "name": "stdout",
     "output_type": "stream",
     "text": [
      "input tensor: [[-0.9568206  -0.3519852   0.39326212 -0.2814874   0.30489728]\n",
      " [ 1.000067   -0.7087076  -0.5729673  -0.18705048 -0.20621224]\n",
      " [-0.00663627  1.4536982   0.87069196 -0.15616864 -0.04469914]\n",
      " [-0.62138456  0.8326373  -1.7155293  -0.18671067 -1.5751405 ]\n",
      " [-0.805046    0.14572485 -0.6442465   0.4096017   0.23699413]]\n",
      "locate the maximum value by column: [0 1 3 0 3]\n",
      "locate the maximum value by row: [0 1 3 2 0]\n"
     ]
    }
   ],
   "source": [
    "random_tensor = tf.random.normal([5,5], mean=0., stddev=1.,seed=1)\n",
    "print(\"input tensor:\",random_tensor.numpy())\n",
    "max_tensor_1 = tf.argmin(random_tensor, axis=0)\n",
    "max_tensor_2 = tf.argmin(random_tensor, axis=1)\n",
    "print(\"locate the maximum value by column:\",max_tensor_1.numpy())\n",
    "print(\"locate the maximum value by row:\",max_tensor_2.numpy())"
   ]
  },
  {
   "cell_type": "markdown",
   "id": "a212d76b-4be9-4d6b-846e-e40aba21d3e4",
   "metadata": {},
   "source": [
    "# Tampilkan hasil dari penggabungan variable random_tensor dengan prime_tensor (concatenation)"
   ]
  },
  {
   "cell_type": "code",
   "execution_count": 42,
   "id": "50452a8b-3da8-4bdf-bd5d-a714fb9ec03a",
   "metadata": {},
   "outputs": [
    {
     "name": "stdout",
     "output_type": "stream",
     "text": [
      "sizes of the original data: tf.Tensor(\n",
      "[[-1.919179    0.01829506  0.7765734  -0.7832411   0.30757543]\n",
      " [ 1.1416744   0.1886675   1.5900987   0.00705396  1.0032494 ]\n",
      " [ 1.1453512  -1.7364683   0.21526565  0.03201041  1.3139104 ]\n",
      " [-0.3118233   0.10879678 -1.2742105  -1.732707   -0.20808774]\n",
      " [-1.0841713  -0.24528262 -1.0429802  -0.28368196 -1.0766255 ]], shape=(5, 5), dtype=float32) [[2, 3, 5, 7, 11], [13, 17, 19, 23, 29], [31, 37, 41, 43, 47], [53, 59, 61, 67, 71], [73, 79, 83, 89, 97]]\n",
      "size of the concatenated data: (10, 5)\n"
     ]
    }
   ],
   "source": [
    "random_tensor = tf.random.normal([5,5], mean=0., stddev=1.,seed=1)\n",
    "prime_tensor = [[2,3,5,7,11],\n",
    "                [13,17,19,23,29],\n",
    "                [31,37,41,43,47],\n",
    "                [53,59,61,67,71],\n",
    "                [73,79,83,89,97]]\n",
    "print(\"sizes of the original data:\",random_tensor,prime_tensor)\n",
    "concated_random_tensor = tf.concat([random_tensor,prime_tensor],axis=0)\n",
    "print(\"size of the concatenated data:\",concated_random_tensor.shape)"
   ]
  },
  {
   "cell_type": "code",
   "execution_count": 44,
   "id": "4500e502-3baa-4ee4-ac61-b164b340ba88",
   "metadata": {},
   "outputs": [
    {
     "data": {
      "text/plain": [
       "array([[-1.9191790e+00,  1.8295057e-02,  7.7657342e-01, -7.8324109e-01,\n",
       "         3.0757543e-01,  2.0000000e+00,  3.0000000e+00,  5.0000000e+00,\n",
       "         7.0000000e+00,  1.1000000e+01],\n",
       "       [ 1.1416744e+00,  1.8866751e-01,  1.5900987e+00,  7.0539583e-03,\n",
       "         1.0032494e+00,  1.3000000e+01,  1.7000000e+01,  1.9000000e+01,\n",
       "         2.3000000e+01,  2.9000000e+01],\n",
       "       [ 1.1453512e+00, -1.7364683e+00,  2.1526565e-01,  3.2010406e-02,\n",
       "         1.3139104e+00,  3.1000000e+01,  3.7000000e+01,  4.1000000e+01,\n",
       "         4.3000000e+01,  4.7000000e+01],\n",
       "       [-3.1182331e-01,  1.0879678e-01, -1.2742105e+00, -1.7327070e+00,\n",
       "        -2.0808774e-01,  5.3000000e+01,  5.9000000e+01,  6.1000000e+01,\n",
       "         6.7000000e+01,  7.1000000e+01],\n",
       "       [-1.0841713e+00, -2.4528262e-01, -1.0429802e+00, -2.8368196e-01,\n",
       "        -1.0766255e+00,  7.3000000e+01,  7.9000000e+01,  8.3000000e+01,\n",
       "         8.9000000e+01,  9.7000000e+01]], dtype=float32)"
      ]
     },
     "execution_count": 44,
     "metadata": {},
     "output_type": "execute_result"
    }
   ],
   "source": [
    "tf.concat([random_tensor,prime_tensor], axis=1).numpy()"
   ]
  },
  {
   "cell_type": "code",
   "execution_count": 45,
   "id": "7e5a8145-b748-4b2b-a714-1d4a1359ac7e",
   "metadata": {},
   "outputs": [
    {
     "data": {
      "text/plain": [
       "array([[-1.9191790e+00,  1.8295057e-02,  7.7657342e-01, -7.8324109e-01,\n",
       "         3.0757543e-01],\n",
       "       [ 1.1416744e+00,  1.8866751e-01,  1.5900987e+00,  7.0539583e-03,\n",
       "         1.0032494e+00],\n",
       "       [ 1.1453512e+00, -1.7364683e+00,  2.1526565e-01,  3.2010406e-02,\n",
       "         1.3139104e+00],\n",
       "       [-3.1182331e-01,  1.0879678e-01, -1.2742105e+00, -1.7327070e+00,\n",
       "        -2.0808774e-01],\n",
       "       [-1.0841713e+00, -2.4528262e-01, -1.0429802e+00, -2.8368196e-01,\n",
       "        -1.0766255e+00],\n",
       "       [ 2.0000000e+00,  3.0000000e+00,  5.0000000e+00,  7.0000000e+00,\n",
       "         1.1000000e+01],\n",
       "       [ 1.3000000e+01,  1.7000000e+01,  1.9000000e+01,  2.3000000e+01,\n",
       "         2.9000000e+01],\n",
       "       [ 3.1000000e+01,  3.7000000e+01,  4.1000000e+01,  4.3000000e+01,\n",
       "         4.7000000e+01],\n",
       "       [ 5.3000000e+01,  5.9000000e+01,  6.1000000e+01,  6.7000000e+01,\n",
       "         7.1000000e+01],\n",
       "       [ 7.3000000e+01,  7.9000000e+01,  8.3000000e+01,  8.9000000e+01,\n",
       "         9.7000000e+01]], dtype=float32)"
      ]
     },
     "execution_count": 45,
     "metadata": {},
     "output_type": "execute_result"
    }
   ],
   "source": [
    "tf.concat([random_tensor,prime_tensor], axis=0).numpy()"
   ]
  },
  {
   "cell_type": "markdown",
   "id": "8cadbb5c-26be-4c2e-9323-dae37e5922da",
   "metadata": {},
   "source": [
    "# Tampilkan hasil sorting dari kedua variable di atas. (descending)"
   ]
  },
  {
   "cell_type": "code",
   "execution_count": 47,
   "id": "c4301033-bed9-4b8a-9405-6dff1e29d9ca",
   "metadata": {},
   "outputs": [
    {
     "data": {
      "text/plain": [
       "array([[ 0.7765734 ,  0.30757543,  0.01829506, -0.7832411 , -1.919179  ],\n",
       "       [ 1.5900987 ,  1.1416744 ,  1.0032494 ,  0.1886675 ,  0.00705396],\n",
       "       [ 1.3139104 ,  1.1453512 ,  0.21526565,  0.03201041, -1.7364683 ],\n",
       "       [ 0.10879678, -0.20808774, -0.3118233 , -1.2742105 , -1.732707  ],\n",
       "       [-0.24528262, -0.28368196, -1.0429802 , -1.0766255 , -1.0841713 ]],\n",
       "      dtype=float32)"
      ]
     },
     "execution_count": 47,
     "metadata": {},
     "output_type": "execute_result"
    }
   ],
   "source": [
    "sort_random_tensor1 = tf.sort(random_tensor, direction=\"DESCENDING\")\n",
    "sort_random_tensor1.numpy()"
   ]
  },
  {
   "cell_type": "code",
   "execution_count": 62,
   "id": "f2f189d6-1064-49f6-aaee-e47313d797ac",
   "metadata": {},
   "outputs": [
    {
     "data": {
      "text/plain": [
       "array([[2, 4, 1, 3, 0],\n",
       "       [2, 0, 4, 1, 3],\n",
       "       [4, 0, 2, 3, 1],\n",
       "       [1, 4, 0, 2, 3],\n",
       "       [1, 3, 2, 4, 0]])"
      ]
     },
     "execution_count": 62,
     "metadata": {},
     "output_type": "execute_result"
    }
   ],
   "source": [
    "sort_random_tensor2 = tf.argsort(random_tensor, direction=\"DESCENDING\")\n",
    "sort_random_tensor2.numpy()"
   ]
  },
  {
   "cell_type": "code",
   "execution_count": 53,
   "id": "5d3e9d5f-3715-4116-8ab9-8533ec5a66b2",
   "metadata": {},
   "outputs": [
    {
     "data": {
      "text/plain": [
       "array([[11,  7,  5,  3,  2],\n",
       "       [29, 23, 19, 17, 13],\n",
       "       [47, 43, 41, 37, 31],\n",
       "       [71, 67, 61, 59, 53],\n",
       "       [97, 89, 83, 79, 73]])"
      ]
     },
     "execution_count": 53,
     "metadata": {},
     "output_type": "execute_result"
    }
   ],
   "source": [
    "sort_prime_tensor1 = tf.sort(prime_tensor, direction=\"DESCENDING\")\n",
    "sort_prime_tensor1.numpy()"
   ]
  },
  {
   "cell_type": "code",
   "execution_count": 58,
   "id": "72869496-da87-4a6f-81bf-c2602cdfadec",
   "metadata": {},
   "outputs": [
    {
     "data": {
      "text/plain": [
       "array([[4, 3, 2, 1, 0],\n",
       "       [4, 3, 2, 1, 0],\n",
       "       [4, 3, 2, 1, 0],\n",
       "       [4, 3, 2, 1, 0],\n",
       "       [4, 3, 2, 1, 0]])"
      ]
     },
     "execution_count": 59,
     "metadata": {},
     "output_type": "execute_result"
    }
   ],
   "source": [
    "sort_prime_tensor2 = tf.argsort(prime_tensor, direction=\"DESCENDING\")\n",
    "sort_prime_tensor2.numpy()"
   ]
  }
 ],
 "metadata": {
  "kernelspec": {
   "display_name": "Python 3 (ipykernel)",
   "language": "python",
   "name": "python3"
  },
  "language_info": {
   "codemirror_mode": {
    "name": "ipython",
    "version": 3
   },
   "file_extension": ".py",
   "mimetype": "text/x-python",
   "name": "python",
   "nbconvert_exporter": "python",
   "pygments_lexer": "ipython3",
   "version": "3.9.2"
  }
 },
 "nbformat": 4,
 "nbformat_minor": 5
}
